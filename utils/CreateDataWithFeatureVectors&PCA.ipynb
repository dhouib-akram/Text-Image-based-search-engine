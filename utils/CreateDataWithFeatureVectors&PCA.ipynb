{
  "cells": [
    {
      "cell_type": "code",
      "execution_count": null,
      "metadata": {
        "colab": {
          "base_uri": "https://localhost:8080/"
        },
        "id": "-vdhsRoDEhne",
        "outputId": "ffeae42f-90b7-47eb-af7a-6ed5fa35e41d"
      },
      "outputs": [],
      "source": [
        "from tensorflow.keras.preprocessing import image\n",
        "from tensorflow.keras.applications.vgg16 import VGG16, preprocess_input\n",
        "from tensorflow.keras.models import Model\n",
        "import numpy as np\n",
        "import cv2\n",
        "from skimage import io\n",
        "import requests\n",
        "import pandas as pd\n",
        "import feature_extractor , config_utils\n",
        "\n",
        "fe=feature_extractor.FeatureExtractor()"
      ]
    },
    {
      "cell_type": "code",
      "execution_count": 250,
      "metadata": {
        "id": "yK_t92mF3ubS"
      },
      "outputs": [],
      "source": [
        "\n",
        "df=pd.read_csv(config_utils.url_filtered_path,usecols=['ImageID','OriginalURL','Tags', 'Author','Title'])\n",
        "\n"
      ]
    },
    {
      "cell_type": "code",
      "execution_count": null,
      "metadata": {},
      "outputs": [],
      "source": [
        "from concurrent.futures import ThreadPoolExecutor\n",
        "from tqdm import tqdm\n",
        "\n",
        "# Function to extract features from a URL\n",
        "def extract_features_from_url(url):\n",
        "    try:\n",
        "        return url, fe.get_features_from_link(url)\n",
        "    except Exception as e:\n",
        "        print(f\"Error processing URL {url}: {e}\")\n",
        "        return None\n",
        "\n",
        "# Number of threads you want to use for parallel processing\n",
        "num_threads = 4  # You can adjust this number\n",
        "\n",
        "# Create a ThreadPoolExecutor\n",
        "with ThreadPoolExecutor(max_workers=num_threads) as executor:\n",
        "    pbar = tqdm(total=len(df[10000:20000]), desc=\"Extracting Features\")\n",
        "\n",
        "    # Submit tasks for each URL to be processed\n",
        "    futures = [executor.submit(extract_features_from_url, url) for url in df['OriginalURL'][10000:20000]]\n",
        "\n",
        "    extracted_features95 = {}\n",
        "\n",
        "    # Iterate over completed futures\n",
        "    for future in futures:\n",
        "        result = future.result()\n",
        "        if result is not None:\n",
        "            url, features = result\n",
        "            extracted_features95[url] = features\n",
        "        pbar.update(1)\n",
        "\n",
        "# Create a list of dictionaries excluding None values\n",
        "data = [{'OriginalURL': url, 'FeatureVector': json.dumps(feature_vector.tolist())} for url, feature_vector in extracted_features95.items()]\n",
        "\n"
      ]
    },
    {
      "cell_type": "code",
      "execution_count": 11,
      "metadata": {},
      "outputs": [],
      "source": [
        "import json\n",
        "# Create a list of dictionaries excluding None values\n",
        "data = [{'OriginalURL': url, 'FeatureVector': json.dumps(feature_vector.tolist())} for url, feature_vector in extracted_features95.items()]\n",
        "\n",
        "df10 = pd.DataFrame(data)\n",
        "df10.to_csv(config_utils.data_10k,index=False)"
      ]
    },
    {
      "cell_type": "code",
      "execution_count": 154,
      "metadata": {},
      "outputs": [],
      "source": [
        "df10=pd.read_csv(config_utils.data_10k)\n",
        "df10['FeatureVector'] = df100['FeatureVector'].apply(lambda x: np.array(json.loads(x)))\n"
      ]
    },
    {
      "cell_type": "code",
      "execution_count": 156,
      "metadata": {},
      "outputs": [
        {
          "data": {
            "text/html": [
              "<div>\n",
              "<style scoped>\n",
              "    .dataframe tbody tr th:only-of-type {\n",
              "        vertical-align: middle;\n",
              "    }\n",
              "\n",
              "    .dataframe tbody tr th {\n",
              "        vertical-align: top;\n",
              "    }\n",
              "\n",
              "    .dataframe thead th {\n",
              "        text-align: right;\n",
              "    }\n",
              "</style>\n",
              "<table border=\"1\" class=\"dataframe\">\n",
              "  <thead>\n",
              "    <tr style=\"text-align: right;\">\n",
              "      <th></th>\n",
              "      <th>OriginalURL</th>\n",
              "      <th>FeatureVector</th>\n",
              "    </tr>\n",
              "  </thead>\n",
              "  <tbody>\n",
              "    <tr>\n",
              "      <th>0</th>\n",
              "      <td>https://c8.staticflickr.com/8/7484/15947609787...</td>\n",
              "      <td>[0.0, 0.0037798460107296705, 0.030225254595279...</td>\n",
              "    </tr>\n",
              "    <tr>\n",
              "      <th>1</th>\n",
              "      <td>https://farm7.staticflickr.com/6224/6342312314...</td>\n",
              "      <td>[0.0, 0.0, 0.0, 0.011376092210412025, 0.0, 0.0...</td>\n",
              "    </tr>\n",
              "    <tr>\n",
              "      <th>2</th>\n",
              "      <td>https://c3.staticflickr.com/3/2548/3886222799_...</td>\n",
              "      <td>[0.0, 0.022251930087804794, 0.0060163619928061...</td>\n",
              "    </tr>\n",
              "    <tr>\n",
              "      <th>3</th>\n",
              "      <td>https://c3.staticflickr.com/4/3250/5754857912_...</td>\n",
              "      <td>[0.022978525608778, 0.0, 0.0, 0.02252731099724...</td>\n",
              "    </tr>\n",
              "    <tr>\n",
              "      <th>4</th>\n",
              "      <td>https://farm5.staticflickr.com/7012/6715043879...</td>\n",
              "      <td>[0.0, 0.0, 0.07514772564172745, 0.051324415951...</td>\n",
              "    </tr>\n",
              "  </tbody>\n",
              "</table>\n",
              "</div>"
            ],
            "text/plain": [
              "                                         OriginalURL  \\\n",
              "0  https://c8.staticflickr.com/8/7484/15947609787...   \n",
              "1  https://farm7.staticflickr.com/6224/6342312314...   \n",
              "2  https://c3.staticflickr.com/3/2548/3886222799_...   \n",
              "3  https://c3.staticflickr.com/4/3250/5754857912_...   \n",
              "4  https://farm5.staticflickr.com/7012/6715043879...   \n",
              "\n",
              "                                       FeatureVector  \n",
              "0  [0.0, 0.0037798460107296705, 0.030225254595279...  \n",
              "1  [0.0, 0.0, 0.0, 0.011376092210412025, 0.0, 0.0...  \n",
              "2  [0.0, 0.022251930087804794, 0.0060163619928061...  \n",
              "3  [0.022978525608778, 0.0, 0.0, 0.02252731099724...  \n",
              "4  [0.0, 0.0, 0.07514772564172745, 0.051324415951...  "
            ]
          },
          "execution_count": 156,
          "metadata": {},
          "output_type": "execute_result"
        }
      ],
      "source": [
        "df10.head()"
      ]
    },
    {
      "cell_type": "code",
      "execution_count": 176,
      "metadata": {},
      "outputs": [
        {
          "data": {
            "text/plain": [
              "(4096,)"
            ]
          },
          "execution_count": 176,
          "metadata": {},
          "output_type": "execute_result"
        }
      ],
      "source": [
        "df10.FeatureVector[0].shape"
      ]
    },
    {
      "cell_type": "code",
      "execution_count": 12,
      "metadata": {},
      "outputs": [
        {
          "data": {
            "text/html": [
              "<div>\n",
              "<style scoped>\n",
              "    .dataframe tbody tr th:only-of-type {\n",
              "        vertical-align: middle;\n",
              "    }\n",
              "\n",
              "    .dataframe tbody tr th {\n",
              "        vertical-align: top;\n",
              "    }\n",
              "\n",
              "    .dataframe thead th {\n",
              "        text-align: right;\n",
              "    }\n",
              "</style>\n",
              "<table border=\"1\" class=\"dataframe\">\n",
              "  <thead>\n",
              "    <tr style=\"text-align: right;\">\n",
              "      <th></th>\n",
              "      <th>OriginalURL</th>\n",
              "      <th>FeatureVector</th>\n",
              "    </tr>\n",
              "  </thead>\n",
              "  <tbody>\n",
              "    <tr>\n",
              "      <th>0</th>\n",
              "      <td>https://farm5.staticflickr.com/8637/1661040770...</td>\n",
              "      <td>[[0.0, 0.0, 0.0, 0.0, 0.0, 0.0, 0.030451796948...</td>\n",
              "    </tr>\n",
              "    <tr>\n",
              "      <th>1</th>\n",
              "      <td>https://c3.staticflickr.com/2/1157/1462090204_...</td>\n",
              "      <td>[[0.0, 0.010526580736041069, 0.001877285074442...</td>\n",
              "    </tr>\n",
              "    <tr>\n",
              "      <th>2</th>\n",
              "      <td>https://c8.staticflickr.com/5/4023/4206922500_...</td>\n",
              "      <td>[[0.0, 0.0, 0.03080959990620613, 0.0, 0.0, 0.0...</td>\n",
              "    </tr>\n",
              "    <tr>\n",
              "      <th>3</th>\n",
              "      <td>https://c3.staticflickr.com/9/8013/7414044012_...</td>\n",
              "      <td>[[0.0, 0.0, 0.055793918669223785, 0.0, 0.0, 0....</td>\n",
              "    </tr>\n",
              "    <tr>\n",
              "      <th>4</th>\n",
              "      <td>https://c2.staticflickr.com/9/8312/8039418292_...</td>\n",
              "      <td>[[0.0, 0.003233593422919512, 0.0, 0.0213613975...</td>\n",
              "    </tr>\n",
              "  </tbody>\n",
              "</table>\n",
              "</div>"
            ],
            "text/plain": [
              "                                         OriginalURL  \\\n",
              "0  https://farm5.staticflickr.com/8637/1661040770...   \n",
              "1  https://c3.staticflickr.com/2/1157/1462090204_...   \n",
              "2  https://c8.staticflickr.com/5/4023/4206922500_...   \n",
              "3  https://c3.staticflickr.com/9/8013/7414044012_...   \n",
              "4  https://c2.staticflickr.com/9/8312/8039418292_...   \n",
              "\n",
              "                                       FeatureVector  \n",
              "0  [[0.0, 0.0, 0.0, 0.0, 0.0, 0.0, 0.030451796948...  \n",
              "1  [[0.0, 0.010526580736041069, 0.001877285074442...  \n",
              "2  [[0.0, 0.0, 0.03080959990620613, 0.0, 0.0, 0.0...  \n",
              "3  [[0.0, 0.0, 0.055793918669223785, 0.0, 0.0, 0....  \n",
              "4  [[0.0, 0.003233593422919512, 0.0, 0.0213613975...  "
            ]
          },
          "execution_count": 12,
          "metadata": {},
          "output_type": "execute_result"
        }
      ],
      "source": [
        "df5 = pd.read_csv(config_utils.data_5k)\n",
        "df5['FeatureVector'] = df5['FeatureVector'].apply(lambda x: np.array(json.loads(x)))\n",
        "df5.head()"
      ]
    },
    {
      "cell_type": "code",
      "execution_count": 177,
      "metadata": {},
      "outputs": [],
      "source": [
        "big_df = pd.concat([df10, df5], axis=0)\n"
      ]
    },
    {
      "cell_type": "code",
      "execution_count": 179,
      "metadata": {},
      "outputs": [
        {
          "name": "stdout",
          "output_type": "stream",
          "text": [
            "<class 'pandas.core.frame.DataFrame'>\n",
            "Index: 14488 entries, 0 to 9690\n",
            "Data columns (total 2 columns):\n",
            " #   Column         Non-Null Count  Dtype \n",
            "---  ------         --------------  ----- \n",
            " 0   OriginalURL    14488 non-null  object\n",
            " 1   FeatureVector  14488 non-null  object\n",
            "dtypes: object(2)\n",
            "memory usage: 339.6+ KB\n"
          ]
        }
      ],
      "source": [
        "big_df.info()"
      ]
    },
    {
      "cell_type": "code",
      "execution_count": 182,
      "metadata": {},
      "outputs": [],
      "source": [
        "data=big_df['FeatureVector'].values\n"
      ]
    },
    {
      "cell_type": "code",
      "execution_count": 183,
      "metadata": {},
      "outputs": [
        {
          "data": {
            "text/plain": [
              "(14488,)"
            ]
          },
          "execution_count": 183,
          "metadata": {},
          "output_type": "execute_result"
        }
      ],
      "source": [
        "data.shape"
      ]
    },
    {
      "cell_type": "code",
      "execution_count": 185,
      "metadata": {},
      "outputs": [],
      "source": [
        "\n",
        "flattened_data = np.array([x.flatten() for x in data])\n"
      ]
    },
    {
      "cell_type": "code",
      "execution_count": 187,
      "metadata": {},
      "outputs": [
        {
          "data": {
            "text/html": [
              "<style>#sk-container-id-2 {color: black;}#sk-container-id-2 pre{padding: 0;}#sk-container-id-2 div.sk-toggleable {background-color: white;}#sk-container-id-2 label.sk-toggleable__label {cursor: pointer;display: block;width: 100%;margin-bottom: 0;padding: 0.3em;box-sizing: border-box;text-align: center;}#sk-container-id-2 label.sk-toggleable__label-arrow:before {content: \"▸\";float: left;margin-right: 0.25em;color: #696969;}#sk-container-id-2 label.sk-toggleable__label-arrow:hover:before {color: black;}#sk-container-id-2 div.sk-estimator:hover label.sk-toggleable__label-arrow:before {color: black;}#sk-container-id-2 div.sk-toggleable__content {max-height: 0;max-width: 0;overflow: hidden;text-align: left;background-color: #f0f8ff;}#sk-container-id-2 div.sk-toggleable__content pre {margin: 0.2em;color: black;border-radius: 0.25em;background-color: #f0f8ff;}#sk-container-id-2 input.sk-toggleable__control:checked~div.sk-toggleable__content {max-height: 200px;max-width: 100%;overflow: auto;}#sk-container-id-2 input.sk-toggleable__control:checked~label.sk-toggleable__label-arrow:before {content: \"▾\";}#sk-container-id-2 div.sk-estimator input.sk-toggleable__control:checked~label.sk-toggleable__label {background-color: #d4ebff;}#sk-container-id-2 div.sk-label input.sk-toggleable__control:checked~label.sk-toggleable__label {background-color: #d4ebff;}#sk-container-id-2 input.sk-hidden--visually {border: 0;clip: rect(1px 1px 1px 1px);clip: rect(1px, 1px, 1px, 1px);height: 1px;margin: -1px;overflow: hidden;padding: 0;position: absolute;width: 1px;}#sk-container-id-2 div.sk-estimator {font-family: monospace;background-color: #f0f8ff;border: 1px dotted black;border-radius: 0.25em;box-sizing: border-box;margin-bottom: 0.5em;}#sk-container-id-2 div.sk-estimator:hover {background-color: #d4ebff;}#sk-container-id-2 div.sk-parallel-item::after {content: \"\";width: 100%;border-bottom: 1px solid gray;flex-grow: 1;}#sk-container-id-2 div.sk-label:hover label.sk-toggleable__label {background-color: #d4ebff;}#sk-container-id-2 div.sk-serial::before {content: \"\";position: absolute;border-left: 1px solid gray;box-sizing: border-box;top: 0;bottom: 0;left: 50%;z-index: 0;}#sk-container-id-2 div.sk-serial {display: flex;flex-direction: column;align-items: center;background-color: white;padding-right: 0.2em;padding-left: 0.2em;position: relative;}#sk-container-id-2 div.sk-item {position: relative;z-index: 1;}#sk-container-id-2 div.sk-parallel {display: flex;align-items: stretch;justify-content: center;background-color: white;position: relative;}#sk-container-id-2 div.sk-item::before, #sk-container-id-2 div.sk-parallel-item::before {content: \"\";position: absolute;border-left: 1px solid gray;box-sizing: border-box;top: 0;bottom: 0;left: 50%;z-index: -1;}#sk-container-id-2 div.sk-parallel-item {display: flex;flex-direction: column;z-index: 1;position: relative;background-color: white;}#sk-container-id-2 div.sk-parallel-item:first-child::after {align-self: flex-end;width: 50%;}#sk-container-id-2 div.sk-parallel-item:last-child::after {align-self: flex-start;width: 50%;}#sk-container-id-2 div.sk-parallel-item:only-child::after {width: 0;}#sk-container-id-2 div.sk-dashed-wrapped {border: 1px dashed gray;margin: 0 0.4em 0.5em 0.4em;box-sizing: border-box;padding-bottom: 0.4em;background-color: white;}#sk-container-id-2 div.sk-label label {font-family: monospace;font-weight: bold;display: inline-block;line-height: 1.2em;}#sk-container-id-2 div.sk-label-container {text-align: center;}#sk-container-id-2 div.sk-container {/* jupyter's `normalize.less` sets `[hidden] { display: none; }` but bootstrap.min.css set `[hidden] { display: none !important; }` so we also need the `!important` here to be able to override the default hidden behavior on the sphinx rendered scikit-learn.org. See: https://github.com/scikit-learn/scikit-learn/issues/21755 */display: inline-block !important;position: relative;}#sk-container-id-2 div.sk-text-repr-fallback {display: none;}</style><div id=\"sk-container-id-2\" class=\"sk-top-container\"><div class=\"sk-text-repr-fallback\"><pre>PCA(n_components=786)</pre><b>In a Jupyter environment, please rerun this cell to show the HTML representation or trust the notebook. <br />On GitHub, the HTML representation is unable to render, please try loading this page with nbviewer.org.</b></div><div class=\"sk-container\" hidden><div class=\"sk-item\"><div class=\"sk-estimator sk-toggleable\"><input class=\"sk-toggleable__control sk-hidden--visually\" id=\"sk-estimator-id-2\" type=\"checkbox\" checked><label for=\"sk-estimator-id-2\" class=\"sk-toggleable__label sk-toggleable__label-arrow\">PCA</label><div class=\"sk-toggleable__content\"><pre>PCA(n_components=786)</pre></div></div></div></div></div>"
            ],
            "text/plain": [
              "PCA(n_components=786)"
            ]
          },
          "execution_count": 187,
          "metadata": {},
          "output_type": "execute_result"
        }
      ],
      "source": [
        "from sklearn.decomposition import PCA\n",
        "\n",
        "n_components = 786\n",
        "pca = PCA(n_components=n_components)\n",
        "\n",
        "# Fit the PCA model to your data\n",
        "pca.fit(flattened_data)\n"
      ]
    },
    {
      "cell_type": "code",
      "execution_count": 194,
      "metadata": {},
      "outputs": [
        {
          "data": {
            "text/plain": [
              "['pca_model20k.pkl']"
            ]
          },
          "execution_count": 194,
          "metadata": {},
          "output_type": "execute_result"
        }
      ],
      "source": [
        "from joblib import dump\n",
        "model_filename = \"pca_model20k.pkl\"\n",
        "dump(pca, model_filename)\n",
        "\n"
      ]
    },
    {
      "cell_type": "code",
      "execution_count": 244,
      "metadata": {},
      "outputs": [],
      "source": [
        "big_df['FeatureVector'] = big_df['FeatureVector'].apply(lambda x: pca.transform(x.reshape(1, -1))[0])\n"
      ]
    },
    {
      "cell_type": "code",
      "execution_count": 254,
      "metadata": {},
      "outputs": [],
      "source": [
        "final = pd.merge(df, big_df, on='OriginalURL', how='inner')\n"
      ]
    },
    {
      "cell_type": "code",
      "execution_count": 261,
      "metadata": {},
      "outputs": [
        {
          "data": {
            "text/html": [
              "<div>\n",
              "<style scoped>\n",
              "    .dataframe tbody tr th:only-of-type {\n",
              "        vertical-align: middle;\n",
              "    }\n",
              "\n",
              "    .dataframe tbody tr th {\n",
              "        vertical-align: top;\n",
              "    }\n",
              "\n",
              "    .dataframe thead th {\n",
              "        text-align: right;\n",
              "    }\n",
              "</style>\n",
              "<table border=\"1\" class=\"dataframe\">\n",
              "  <thead>\n",
              "    <tr style=\"text-align: right;\">\n",
              "      <th></th>\n",
              "      <th>OriginalURL</th>\n",
              "      <th>ImageID</th>\n",
              "      <th>Author</th>\n",
              "      <th>Title</th>\n",
              "      <th>Tags</th>\n",
              "      <th>FeatureVector</th>\n",
              "    </tr>\n",
              "  </thead>\n",
              "  <tbody>\n",
              "    <tr>\n",
              "      <th>0</th>\n",
              "      <td>https://c8.staticflickr.com/8/7484/15947609787...</td>\n",
              "      <td>43971fd64594d6ef</td>\n",
              "      <td>Andres Perez</td>\n",
              "      <td>La #selfie de mi #amor con el #camilin #sobrino</td>\n",
              "      <td>['Toddler']</td>\n",
              "      <td>[-0.21065448338646245, 0.08222337240108045, -0...</td>\n",
              "    </tr>\n",
              "    <tr>\n",
              "      <th>1</th>\n",
              "      <td>https://farm7.staticflickr.com/6224/6342312314...</td>\n",
              "      <td>6a506a3a53143fa6</td>\n",
              "      <td>Ron Cogswell</td>\n",
              "      <td>Potomac Eagle Train -- North of Romney Saturda...</td>\n",
              "      <td>['Screenshot', 'Train']</td>\n",
              "      <td>[0.07606110373707096, 0.005661928558624046, 0....</td>\n",
              "    </tr>\n",
              "    <tr>\n",
              "      <th>2</th>\n",
              "      <td>https://c3.staticflickr.com/3/2548/3886222799_...</td>\n",
              "      <td>57407b991842716a</td>\n",
              "      <td>Christian Heilmann</td>\n",
              "      <td>xml being found is a problem?</td>\n",
              "      <td>['Screenshot']</td>\n",
              "      <td>[-0.006623505660583157, -0.166815973533954, -0...</td>\n",
              "    </tr>\n",
              "    <tr>\n",
              "      <th>3</th>\n",
              "      <td>https://c3.staticflickr.com/4/3250/5754857912_...</td>\n",
              "      <td>4b90b2161756f72a</td>\n",
              "      <td>SA-Venues.com</td>\n",
              "      <td>Flowers beside the lake - Green Point Park</td>\n",
              "      <td>['Lake', 'Plant', 'Tree', 'Flower']</td>\n",
              "      <td>[0.20381353141968522, 0.0442960083283837, 0.10...</td>\n",
              "    </tr>\n",
              "    <tr>\n",
              "      <th>4</th>\n",
              "      <td>https://farm5.staticflickr.com/7012/6715043879...</td>\n",
              "      <td>7630b725776dc6c4</td>\n",
              "      <td>baligraph</td>\n",
              "      <td>Travel to East Java , a Tropical Paradise in T...</td>\n",
              "      <td>['Computer', 'Screenshot', 'Food']</td>\n",
              "      <td>[-0.007265260920830729, -0.230973277233518, -0...</td>\n",
              "    </tr>\n",
              "  </tbody>\n",
              "</table>\n",
              "</div>"
            ],
            "text/plain": [
              "                                         OriginalURL           ImageID  \\\n",
              "0  https://c8.staticflickr.com/8/7484/15947609787...  43971fd64594d6ef   \n",
              "1  https://farm7.staticflickr.com/6224/6342312314...  6a506a3a53143fa6   \n",
              "2  https://c3.staticflickr.com/3/2548/3886222799_...  57407b991842716a   \n",
              "3  https://c3.staticflickr.com/4/3250/5754857912_...  4b90b2161756f72a   \n",
              "4  https://farm5.staticflickr.com/7012/6715043879...  7630b725776dc6c4   \n",
              "\n",
              "               Author                                              Title  \\\n",
              "0        Andres Perez    La #selfie de mi #amor con el #camilin #sobrino   \n",
              "1        Ron Cogswell  Potomac Eagle Train -- North of Romney Saturda...   \n",
              "2  Christian Heilmann                      xml being found is a problem?   \n",
              "3       SA-Venues.com         Flowers beside the lake - Green Point Park   \n",
              "4           baligraph  Travel to East Java , a Tropical Paradise in T...   \n",
              "\n",
              "                                  Tags  \\\n",
              "0                          ['Toddler']   \n",
              "1              ['Screenshot', 'Train']   \n",
              "2                       ['Screenshot']   \n",
              "3  ['Lake', 'Plant', 'Tree', 'Flower']   \n",
              "4   ['Computer', 'Screenshot', 'Food']   \n",
              "\n",
              "                                       FeatureVector  \n",
              "0  [-0.21065448338646245, 0.08222337240108045, -0...  \n",
              "1  [0.07606110373707096, 0.005661928558624046, 0....  \n",
              "2  [-0.006623505660583157, -0.166815973533954, -0...  \n",
              "3  [0.20381353141968522, 0.0442960083283837, 0.10...  \n",
              "4  [-0.007265260920830729, -0.230973277233518, -0...  "
            ]
          },
          "execution_count": 261,
          "metadata": {},
          "output_type": "execute_result"
        }
      ],
      "source": [
        "final.head()"
      ]
    },
    {
      "cell_type": "code",
      "execution_count": 273,
      "metadata": {},
      "outputs": [],
      "source": [
        "final['FeatureVector'] = final['FeatureVector'].apply(lambda x: json.dumps(x.tolist()))\n"
      ]
    },
    {
      "cell_type": "code",
      "execution_count": 276,
      "metadata": {},
      "outputs": [],
      "source": [
        "final.to_csv(config_utils.final_with_feature,index=False)"
      ]
    }
  ],
  "metadata": {
    "colab": {
      "provenance": []
    },
    "kernelspec": {
      "display_name": "Python 3",
      "name": "python3"
    },
    "language_info": {
      "codemirror_mode": {
        "name": "ipython",
        "version": 3
      },
      "file_extension": ".py",
      "mimetype": "text/x-python",
      "name": "python",
      "nbconvert_exporter": "python",
      "pygments_lexer": "ipython3",
      "version": "3.9.18"
    }
  },
  "nbformat": 4,
  "nbformat_minor": 0
}
